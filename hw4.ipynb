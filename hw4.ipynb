{
 "cells": [
  {
   "cell_type": "markdown",
   "source": [
    "Viết chương trình Python kiểm tra số lớn nhất trong 3 số\r\n",
    "Khai báo 3 biến a, b, c nhập giá trị số bất kỳ (int)\r\n",
    "Kiểm tra và in ra số lớn nhất trong 3 số đó"
   ],
   "metadata": {}
  },
  {
   "cell_type": "code",
   "execution_count": 1,
   "source": [
    "a = int(input(\"Nhập a: \"))\r\n",
    "b = int(input(\"Nhập b: \"))\r\n",
    "c = int(input(\"Nhập c: \"))\r\n",
    "\r\n",
    "print(\"Bạn đã nhập: {}, {}, {}\".format(a,b,c))\r\n",
    "\r\n",
    "if a > b and a > c:\r\n",
    "    max = a\r\n",
    "elif b > c:\r\n",
    "    max = b\r\n",
    "else:\r\n",
    "    max = c\r\n",
    "\r\n",
    "print(\"Số lớn nhất là: \",max)"
   ],
   "outputs": [
    {
     "output_type": "stream",
     "name": "stdout",
     "text": [
      "Bạn đã nhập: 56, 23, 543\n",
      "Số lớn nhất là:  543\n"
     ]
    }
   ],
   "metadata": {}
  },
  {
   "cell_type": "markdown",
   "source": [
    "Viết chương trình kiểm tra một năm có phải năm nhuận hay không\r\n",
    "\r\n",
    "Nhập một năm year - int\r\n",
    "Kiểm tra và in ra kết quả year có phải năm nhuận hay không\r\n",
    "💡 Năm nhuận là năm:\r\n",
    "\r\n",
    "Chia hết cho 400\r\n",
    "Chia hết cho 4 nhưng không chia hết cho 100"
   ],
   "metadata": {}
  },
  {
   "cell_type": "code",
   "execution_count": 5,
   "source": [
    "y = int(input(\"Nhập năm: \"))\r\n",
    "\r\n",
    "if (y%400 == 0) or (y%4 == 0 and y%100 != 0):\r\n",
    "    print(y, \"là năm nhuận\")\r\n",
    "else: \r\n",
    "    print(y, \"không phải là năm nhuận\")"
   ],
   "outputs": [
    {
     "output_type": "stream",
     "name": "stdout",
     "text": [
      "2022 không phải là năm nhuận\n"
     ]
    }
   ],
   "metadata": {}
  },
  {
   "cell_type": "markdown",
   "source": [
    "Viết chương trình tính chỉ số BMI (Body Mass Index - Chỉ số cơ thể)\r\n",
    "\r\n",
    "Nhập chiều cao h (đơn vị m) và cân nặng w (đơn vị kg)\r\n",
    "Tính chỉ số BMI: w / (h * h)\r\n",
    "In chỉ số và thông báo kết quả theo quy ước:\r\n",
    "BMI < 17: Gầy độ II\r\n",
    "17 <= BMI < 18.5: Gầy độ I\r\n",
    "18.5 <= BMI < 25: Bình thường\r\n",
    "25 <= BMI < 30: Thừa cân\r\n",
    "30 <= BMI < 35: Béo phì độ I\r\n",
    "35 <= BMI: Béo phì độ II"
   ],
   "metadata": {}
  },
  {
   "cell_type": "code",
   "execution_count": null,
   "source": [
    "h = float(input(\"Nhập chiều cao: \"))\r\n",
    "w = float(input(\"Nhập cân nặng: \"))\r\n",
    "\r\n",
    "BMI = w / (h * h)\r\n",
    "\r\n",
    "if BMI < 17:\r\n",
    "    print(\"Gầy độ II\")\r\n",
    "elif 17 <= BMI < 18.5:\r\n",
    "    print(\"Gầy độ I\")\r\n",
    "elif 18.5 <= BMI < 25:\r\n",
    "    print(\"Bình thường\")\r\n",
    "elif 5 <= BMI < 30:\r\n",
    "    print(\"Thừa cân\")\r\n",
    "elif 30 <= BMI < 35:\r\n",
    "    print(\"Béo phì độ I\")\r\n",
    "else: \r\n",
    "    print(\"Béo phì độ II\")\r\n"
   ],
   "outputs": [],
   "metadata": {}
  }
 ],
 "metadata": {
  "orig_nbformat": 4,
  "language_info": {
   "name": "python",
   "version": "3.9.6",
   "mimetype": "text/x-python",
   "codemirror_mode": {
    "name": "ipython",
    "version": 3
   },
   "pygments_lexer": "ipython3",
   "nbconvert_exporter": "python",
   "file_extension": ".py"
  },
  "kernelspec": {
   "name": "python3",
   "display_name": "Python 3.9.6 64-bit"
  },
  "interpreter": {
   "hash": "faf5d61bb18dfd3d1dffa3c2a60dab2bf26012f35c38bfb60ca7288a663f0160"
  }
 },
 "nbformat": 4,
 "nbformat_minor": 2
}