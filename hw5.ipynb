{
 "cells": [
  {
   "cell_type": "markdown",
   "source": [
    "Print Star\r\n",
    "Hãy viết chương trình in ra các hình sau (dùng ký tự '*' và ký tự space) với n là số dòng. Vd: n = 4"
   ],
   "metadata": {}
  },
  {
   "cell_type": "code",
   "execution_count": 1,
   "source": [
    "n = int(input(\"Nhập số dòng: \"))\r\n",
    "\r\n",
    "for i in range(0,n+1):\r\n",
    "    s1=(n-i)*\"  \" + i*\" *\"\r\n",
    "    print(s1)"
   ],
   "outputs": [
    {
     "output_type": "stream",
     "name": "stdout",
     "text": [
      "                    \n",
      "                   *\n",
      "                 * *\n",
      "               * * *\n",
      "             * * * *\n",
      "           * * * * *\n",
      "         * * * * * *\n",
      "       * * * * * * *\n",
      "     * * * * * * * *\n",
      "   * * * * * * * * *\n",
      " * * * * * * * * * *\n"
     ]
    }
   ],
   "metadata": {}
  },
  {
   "cell_type": "code",
   "execution_count": null,
   "source": [
    "n = int(input(\"Nhập số dòng: \"))\r\n",
    "\r\n",
    "for i in range(0,n,1):\r\n",
    "    s1=(n-i)*\"  \" + i*\" *\"\r\n",
    "    print(s1)\r\n",
    "print(2*n*\" *\")\r\n",
    "for j in range(n-1,0,-1):\r\n",
    "    s2=n*\"  \" + j*\" *\"\r\n",
    "    print(s2)"
   ],
   "outputs": [
    {
     "output_type": "stream",
     "name": "stdout",
     "text": [
      "        \n",
      "       *\n",
      "     * *\n",
      "   * * *\n",
      " * * * * * * * *\n",
      "         * * *\n",
      "         * *\n",
      "         *\n"
     ]
    }
   ],
   "metadata": {}
  },
  {
   "cell_type": "markdown",
   "source": [
    "Viết chương trình trả ra từ điển với key là các số trong list, value là số lần xuất hiện của số trong list\r\n",
    "my_list = [10, 21, 21, 40, 40, 52, 52, 1, 1, 2, 2, 2, 2, 11, 11, 11, 11, 25, 24, 24, 60, 40]\r\n",
    "Trả ra\r\n",
    "{10: 1, 21: 2, 40: 3, 52: 2, 1: 2, 2: 4, 11: 4, 25: 1, 24: 2, 60: 1}"
   ],
   "metadata": {}
  },
  {
   "cell_type": "code",
   "execution_count": null,
   "source": [
    "my_list = [10, 21, 21, 40, 40, 52, 52, 1, 1, 2, 2, 2, 2, 11, 11, 11, 11, 25, 24, 24, 60, 40]\r\n",
    "count={}\r\n",
    "\r\n",
    "for i in my_list:\r\n",
    "    if i in count:\r\n",
    "        count[i] +=1\r\n",
    "    else:\r\n",
    "        count[i] = 1\r\n",
    " \r\n",
    "print(count)"
   ],
   "outputs": [
    {
     "output_type": "stream",
     "name": "stdout",
     "text": [
      "{10: 1, 21: 2, 40: 3, 52: 2, 1: 2, 2: 4, 11: 4, 25: 1, 24: 2, 60: 1}\n"
     ]
    }
   ],
   "metadata": {}
  },
  {
   "cell_type": "markdown",
   "source": [
    "Viết chương trình in ra thời gian đếm ngược đến XMas 2021 sau mỗi khoảng thời gian nhất định.\r\n",
    "\r\n",
    "vd in ra sau mỗi 5s:\r\n",
    "\r\n",
    "Countdown to Xmas 2021: 112 days, 11:47:01.339588\r\n",
    "Countdown to Xmas 2021: 112 days, 11:46:56.324008\r\n",
    "Countdown to Xmas 2021: 112 days, 11:46:51.310473"
   ],
   "metadata": {}
  },
  {
   "cell_type": "code",
   "execution_count": 4,
   "source": [
    "import datetime\r\n",
    "import time\r\n",
    "\r\n",
    "xmas = datetime.datetime(2021,12,24,00,00,00)\r\n",
    "\r\n",
    "while xmas > datetime.datetime.now():\r\n",
    "    delta = (xmas - datetime.datetime.now())\r\n",
    "    print(\"Hiện tại là :\",datetime.datetime.now())\r\n",
    "    print(\"Countdown to Xmas 2021 : \", delta)\r\n",
    "    time.sleep(5)"
   ],
   "outputs": [
    {
     "output_type": "stream",
     "name": "stdout",
     "text": [
      "Hiện tại là : 2021-09-07 10:43:48.927981\n",
      "Countdown to Xmas 2021 :  107 days, 13:16:11.072019\n",
      "Hiện tại là : 2021-09-07 10:43:53.932001\n",
      "Countdown to Xmas 2021 :  107 days, 13:16:06.067999\n"
     ]
    },
    {
     "output_type": "error",
     "ename": "KeyboardInterrupt",
     "evalue": "",
     "traceback": [
      "\u001b[1;31m---------------------------------------------------------------------------\u001b[0m",
      "\u001b[1;31mKeyboardInterrupt\u001b[0m                         Traceback (most recent call last)",
      "\u001b[1;32m~\\AppData\\Local\\Temp/ipykernel_6448/3432292827.py\u001b[0m in \u001b[0;36m<module>\u001b[1;34m\u001b[0m\n\u001b[0;32m      8\u001b[0m     \u001b[0mprint\u001b[0m\u001b[1;33m(\u001b[0m\u001b[1;34m\"Hiện tại là :\"\u001b[0m\u001b[1;33m,\u001b[0m\u001b[0mdatetime\u001b[0m\u001b[1;33m.\u001b[0m\u001b[0mdatetime\u001b[0m\u001b[1;33m.\u001b[0m\u001b[0mnow\u001b[0m\u001b[1;33m(\u001b[0m\u001b[1;33m)\u001b[0m\u001b[1;33m)\u001b[0m\u001b[1;33m\u001b[0m\u001b[1;33m\u001b[0m\u001b[0m\n\u001b[0;32m      9\u001b[0m     \u001b[0mprint\u001b[0m\u001b[1;33m(\u001b[0m\u001b[1;34m\"Countdown to Xmas 2021 : \"\u001b[0m\u001b[1;33m,\u001b[0m \u001b[0mdelta\u001b[0m\u001b[1;33m)\u001b[0m\u001b[1;33m\u001b[0m\u001b[1;33m\u001b[0m\u001b[0m\n\u001b[1;32m---> 10\u001b[1;33m     \u001b[0mtime\u001b[0m\u001b[1;33m.\u001b[0m\u001b[0msleep\u001b[0m\u001b[1;33m(\u001b[0m\u001b[1;36m5\u001b[0m\u001b[1;33m)\u001b[0m\u001b[1;33m\u001b[0m\u001b[1;33m\u001b[0m\u001b[0m\n\u001b[0m",
      "\u001b[1;31mKeyboardInterrupt\u001b[0m: "
     ]
    }
   ],
   "metadata": {}
  },
  {
   "cell_type": "markdown",
   "source": [
    "Unique value Dictionary:\r\n",
    "Cho một list gồm 1 hoặc nhiều từ điển (Dictionary). Viết chương trình để trả ra tập hợp tất cả các giá trị (values) duy nhất trong tất cả danh sách các từ điển trên.\r\n",
    "\r\n",
    "[VD1]: Trường hợp dưới đây danh sách đầu vào có 1 từ điển map tên người vào tuổi của họ. Trả ra set các tuổi duy nhất.\r\n",
    "\r\n",
    "unique_value_dict([dict(Trang=38, Thu=38, Ngoc=27, Thanh=26, Yen=25, Hang=22, Thuy=22)]) == {22, 25, 26, 27, 38}\r\n",
    "[VD2]: Trường hợp dưới đây danh sách đầu vào có 7 dicts, mỗi dict chỉ có 1 cặp key-values. 5 giá trị trả về là duy nhất.\r\n",
    "\r\n",
    "unique_value_dict([{\"V\":\"S001\"}, {\"V\": \"S002\"}, {\"VI\": \"S001\"}, {\"VI\": \"S005\"}, {\"VII\":\"S005\"}, {\"V\":\"S009\"},{\"VIII\":\"S007\"}]) == {'S009', 'S007', 'S002', 'S001', 'S005'}"
   ],
   "metadata": {}
  },
  {
   "cell_type": "code",
   "execution_count": 55,
   "source": [
    "dict1 = dict(Trang=38, Thu=38, Ngoc=27, Thanh=26, Yen=25, Hang=22, Thuy=22)\r\n",
    "ages1=set(dict1.values())\r\n",
    "ages1\r\n",
    "\r\n"
   ],
   "outputs": [
    {
     "output_type": "execute_result",
     "data": {
      "text/plain": [
       "{22, 25, 26, 27, 38}"
      ]
     },
     "metadata": {},
     "execution_count": 55
    }
   ],
   "metadata": {}
  },
  {
   "cell_type": "code",
   "execution_count": 59,
   "source": [
    "dict2 =[{\"V\":\"S001\"}, {\"V\": \"S002\"}, {\"VI\": \"S001\"}, {\"VI\": \"S005\"}, {\"VII\":\"S005\"}, {\"V\":\"S009\"},{\"VIII\":\"S007\"}]\r\n",
    "ages2=[]\r\n",
    "\r\n",
    "for i in dict2:\r\n",
    "    ages2.append(*i.values())\r\n",
    "print(set(ages2))\r\n"
   ],
   "outputs": [
    {
     "output_type": "stream",
     "name": "stdout",
     "text": [
      "{'S002', 'S009', 'S007', 'S001', 'S005'}\n"
     ]
    }
   ],
   "metadata": {}
  },
  {
   "cell_type": "markdown",
   "source": [
    "Cho list A chứa các số nguyên đã sắp xếp theo thứ tự tăng dần.\r\n",
    "Vd A = [3, 6, 7, 9, 11, 12] và một số nguyên sum. Tìm tất cả các cặp số (a,b) trong mảng A có tổng bằng sum\r\n",
    "vd ở đây nếu sum = 18 thì kết quả là [(7,11), (6,12)]. Nếu không có cặp số nào thỏa mãn thì in ra list rỗng []"
   ],
   "metadata": {}
  },
  {
   "cell_type": "code",
   "execution_count": 60,
   "source": [
    "a = [3, 6, 7, 9, 11, 12]\r\n",
    "sum = 18\r\n",
    "result = []\r\n",
    "\r\n",
    "for i in range(len(a)):\r\n",
    "    for j in range(i+1,len(a)):\r\n",
    "        if (a[i] + a[j]) == sum:\r\n",
    "            result.append({a[i],a[j]})\r\n",
    "print(result)"
   ],
   "outputs": [
    {
     "output_type": "stream",
     "name": "stdout",
     "text": [
      "[{12, 6}, {11, 7}]\n"
     ]
    }
   ],
   "metadata": {}
  }
 ],
 "metadata": {
  "orig_nbformat": 4,
  "language_info": {
   "name": "python",
   "version": "3.9.6",
   "mimetype": "text/x-python",
   "codemirror_mode": {
    "name": "ipython",
    "version": 3
   },
   "pygments_lexer": "ipython3",
   "nbconvert_exporter": "python",
   "file_extension": ".py"
  },
  "kernelspec": {
   "name": "python3",
   "display_name": "Python 3.9.6 64-bit"
  },
  "interpreter": {
   "hash": "faf5d61bb18dfd3d1dffa3c2a60dab2bf26012f35c38bfb60ca7288a663f0160"
  }
 },
 "nbformat": 4,
 "nbformat_minor": 2
}